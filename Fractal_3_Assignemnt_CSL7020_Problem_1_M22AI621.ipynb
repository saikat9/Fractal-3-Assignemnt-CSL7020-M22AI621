{
  "nbformat": 4,
  "nbformat_minor": 0,
  "metadata": {
    "colab": {
      "provenance": []
    },
    "kernelspec": {
      "name": "python3",
      "display_name": "Python 3"
    },
    "language_info": {
      "name": "python"
    }
  },
  "cells": [
    {
      "cell_type": "markdown",
      "source": [
        "# Implementing perceptron algorithm without making the data mean centered"
      ],
      "metadata": {
        "id": "sd2w_jAljtmC"
      }
    },
    {
      "cell_type": "code",
      "source": [
        "import numpy as np\n",
        "import matplotlib.pyplot as plt\n",
        "import pandas as pd\n",
        "positive_one = np.array([[1,1],[0.2,0.2],[0.9,0.5]])\n",
        "negative_one = np.array([[-1,-1],[0,0.5],[0.1,0.5]])\n",
        "data= np.concatenate((positive_one, negative_one), axis=0) # data is 6 rows and 2 columns\n",
        "print(data)\n",
        "y=[1,1,1, -1, -1, -1]\n",
        "print(y)"
      ],
      "metadata": {
        "colab": {
          "base_uri": "https://localhost:8080/"
        },
        "id": "8DsaV-nMQ1GQ",
        "outputId": "412c226c-87ca-4795-f054-9bc9303b96ef"
      },
      "execution_count": 94,
      "outputs": [
        {
          "output_type": "stream",
          "name": "stdout",
          "text": [
            "[[ 1.   1. ]\n",
            " [ 0.2  0.2]\n",
            " [ 0.9  0.5]\n",
            " [-1.  -1. ]\n",
            " [ 0.   0.5]\n",
            " [ 0.1  0.5]]\n",
            "[1, 1, 1, -1, -1, -1]\n"
          ]
        }
      ]
    },
    {
      "cell_type": "code",
      "source": [
        "plt.scatter(np.array(data[0:3,0]), np.array(data[0:3,1]),marker='+', label='positive_one' )\n",
        "plt.scatter(np.array(data[3:6,0]), np.array(data[3:6,1]),marker='*', label='negative_one' )\n",
        "plt.xlabel('x1')\n",
        "plt.ylabel('x2')\n",
        "plt.ylim(-2,2)\n",
        "plt.xlim(-2,2)\n",
        "plt.legend()\n",
        "plt.show()"
      ],
      "metadata": {
        "colab": {
          "base_uri": "https://localhost:8080/",
          "height": 455
        },
        "id": "e6gBLJXFRSA_",
        "outputId": "b40bed31-b098-4a34-d431-c4ea9492323b"
      },
      "execution_count": 95,
      "outputs": [
        {
          "output_type": "display_data",
          "data": {
            "text/plain": [
              "<Figure size 640x480 with 1 Axes>"
            ],
            "image/png": "[encoded data removed]"
          },
          "metadata": {}
        }
      ]
    },
    {
      "cell_type": "code",
      "source": [
        "correctClassified = 0\n",
        "w = [1,1] # As given\n",
        "w = np.append(w,0) # append w0=0 since w0 is not provided\n",
        "print(w)"
      ],
      "metadata": {
        "colab": {
          "base_uri": "https://localhost:8080/"
        },
        "id": "d7pW_MKzRWFO",
        "outputId": "719152ae-4350-442c-b317-79636882dccf"
      },
      "execution_count": 96,
      "outputs": [
        {
          "output_type": "stream",
          "name": "stdout",
          "text": [
            "[1 1 0]\n"
          ]
        }
      ]
    },
    {
      "cell_type": "code",
      "source": [
        "number_of_steps_for_convergence = 0\n",
        "dataframe_of_x_w = pd.DataFrame()\n",
        "while (correctClassified != len(data)): #Until everything is classified\n",
        "  for sample in range(len(data)):\n",
        "    x = np.append(data[sample,0:2],1)\n",
        "    if y[sample]==1: #Sample is positive_one \n",
        "       if np.dot(np.transpose(w),x)>=0: #WX >= 0\n",
        "         correctClassified=correctClassified+1\n",
        "         print(\"sample is positive_one\")\n",
        "       else: #positive_one is classified as negative_one     \n",
        "          w=w+x\n",
        "          number_of_steps_for_convergence += 1\n",
        "          df_new_row = pd.DataFrame({ 'x1': [x[0]], 'x2': [x[1]], 'w1':float([w[0]][0]), 'w2':float([w[1]][0])})\n",
        "          dataframe_of_x_w = pd.concat([dataframe_of_x_w, df_new_row])          \n",
        "    else: #Sample is negative_one\n",
        "         if np.dot(np.transpose(w),x)<0: # WX < 0\n",
        "           correctClassified=correctClassified+1\n",
        "           print(\"sample is negative_one\")\n",
        "         else: #negative_one is classified as positive_one          \n",
        "          w=w-x\n",
        "          number_of_steps_for_convergence += 1\n",
        "          df_new_row = pd.DataFrame({ 'x1': [x[0]], 'x2': [x[1]], 'w1':float([w[0]][0]), 'w2':float([w[1]][0])})\n",
        "          dataframe_of_x_w = pd.concat([dataframe_of_x_w, df_new_row])          \n",
        "  if(correctClassified != len(data)):\n",
        "      correctClassified=0           \n",
        "print(\"Weight vector:\", w) \n",
        "print(\"Number of steps required for convergence:\",number_of_steps_for_convergence)\n",
        "print(dataframe_of_x_w)"
      ],
      "metadata": {
        "colab": {
          "base_uri": "https://localhost:8080/"
        },
        "id": "HvNg2OKiRW_3",
        "outputId": "24d4d3d5-951b-4e5f-ebff-44c3100280a0"
      },
      "execution_count": 97,
      "outputs": [
        {
          "output_type": "stream",
          "name": "stdout",
          "text": [
            "sample is positive_one\n",
            "sample is positive_one\n",
            "sample is positive_one\n",
            "sample is negative_one\n",
            "sample is negative_one\n",
            "sample is positive_one\n",
            "sample is positive_one\n",
            "sample is negative_one\n",
            "sample is negative_one\n",
            "sample is positive_one\n",
            "sample is positive_one\n",
            "sample is negative_one\n",
            "sample is negative_one\n",
            "sample is positive_one\n",
            "sample is positive_one\n",
            "sample is negative_one\n",
            "sample is negative_one\n",
            "sample is positive_one\n",
            "sample is positive_one\n",
            "sample is negative_one\n",
            "sample is negative_one\n",
            "sample is positive_one\n",
            "sample is positive_one\n",
            "sample is negative_one\n",
            "sample is negative_one\n",
            "sample is positive_one\n",
            "sample is positive_one\n",
            "sample is negative_one\n",
            "sample is negative_one\n",
            "sample is positive_one\n",
            "sample is positive_one\n",
            "sample is negative_one\n",
            "sample is negative_one\n",
            "sample is positive_one\n",
            "sample is positive_one\n",
            "sample is negative_one\n",
            "sample is negative_one\n",
            "sample is positive_one\n",
            "sample is positive_one\n",
            "sample is negative_one\n",
            "sample is negative_one\n",
            "sample is negative_one\n",
            "sample is positive_one\n",
            "sample is positive_one\n",
            "sample is positive_one\n",
            "sample is negative_one\n",
            "sample is negative_one\n",
            "sample is negative_one\n",
            "Weight vector: [ 3.3 -0.9  0. ]\n",
            "Number of steps required for convergence: 18\n",
            "    x1   x2   w1            w2\n",
            "0  0.0  0.5  1.0  5.000000e-01\n",
            "0  0.2  0.2  1.2  7.000000e-01\n",
            "0  0.0  0.5  1.2  2.000000e-01\n",
            "0  0.2  0.2  1.4  4.000000e-01\n",
            "0  0.0  0.5  1.4 -1.000000e-01\n",
            "0  0.2  0.2  1.6  1.000000e-01\n",
            "0  0.0  0.5  1.6 -4.000000e-01\n",
            "0  0.2  0.2  1.8 -2.000000e-01\n",
            "0  0.1  0.5  1.7 -7.000000e-01\n",
            "0  1.0  1.0  2.7  3.000000e-01\n",
            "0  0.0  0.5  2.7 -2.000000e-01\n",
            "0  0.2  0.2  2.9  5.551115e-17\n",
            "0  0.0  0.5  2.9 -5.000000e-01\n",
            "0  0.2  0.2  3.1 -3.000000e-01\n",
            "0  0.1  0.5  3.0 -8.000000e-01\n",
            "0  0.2  0.2  3.2 -6.000000e-01\n",
            "0  0.1  0.5  3.1 -1.100000e+00\n",
            "0  0.2  0.2  3.3 -9.000000e-01\n"
          ]
        }
      ]
    },
    {
      "cell_type": "markdown",
      "source": [
        "# Implementing perceptron algorithm by making the data mean centered"
      ],
      "metadata": {
        "id": "wTmwL_vrv32a"
      }
    },
    {
      "cell_type": "code",
      "source": [
        "import numpy as np\n",
        "import matplotlib.pyplot as plt\n",
        "import pandas as pd\n",
        "positive_one = np.array([[1,1],[0.2,0.2],[0.9,0.5]])\n",
        "negative_one = np.array([[-1,-1],[0,0.5],[0.1,0.5]])\n",
        "data= np.concatenate((positive_one, negative_one), axis=0) # data is 6 rows and 2 columns\n",
        "data = data - np.mean(data,axis=0) # will make data mean = 0\n",
        "print(data)\n",
        "y=[1,1,1, -1, -1, -1]\n",
        "print(y)"
      ],
      "metadata": {
        "colab": {
          "base_uri": "https://localhost:8080/"
        },
        "id": "aaG_RM-VwD1N",
        "outputId": "e4c5944b-c69f-4080-dd42-cf386dbc0a22"
      },
      "execution_count": 98,
      "outputs": [
        {
          "output_type": "stream",
          "name": "stdout",
          "text": [
            "[[ 8.00000000e-01  7.16666667e-01]\n",
            " [-2.77555756e-17 -8.33333333e-02]\n",
            " [ 7.00000000e-01  2.16666667e-01]\n",
            " [-1.20000000e+00 -1.28333333e+00]\n",
            " [-2.00000000e-01  2.16666667e-01]\n",
            " [-1.00000000e-01  2.16666667e-01]]\n",
            "[1, 1, 1, -1, -1, -1]\n"
          ]
        }
      ]
    },
    {
      "cell_type": "code",
      "source": [
        "plt.scatter(np.array(data[0:3,0]), np.array(data[0:3,1]),marker='+', label='positive_one' )\n",
        "plt.scatter(np.array(data[3:6,0]), np.array(data[3:6,1]),marker='*', label='negative_one' )\n",
        "plt.xlabel('x1')\n",
        "plt.ylabel('x2')\n",
        "plt.ylim(-2,2)\n",
        "plt.xlim(-2,2)\n",
        "plt.legend()\n",
        "plt.show()"
      ],
      "metadata": {
        "colab": {
          "base_uri": "https://localhost:8080/",
          "height": 455
        },
        "id": "fhbEV4TUwegv",
        "outputId": "02d5a538-1515-431e-f719-66d8318efa8c"
      },
      "execution_count": 99,
      "outputs": [
        {
          "output_type": "display_data",
          "data": {
            "text/plain": [
              "<Figure size 640x480 with 1 Axes>"
            ],
            "image/png": "[encoded data removed]"
          },
          "metadata": {}
        }
      ]
    },
    {
      "cell_type": "code",
      "source": [
        "correctClassified = 0\n",
        "w = [1,1] # As given\n",
        "w = np.append(w,0) # append w0=0 since w0 is not provided\n",
        "print(w)"
      ],
      "metadata": {
        "colab": {
          "base_uri": "https://localhost:8080/"
        },
        "id": "WzfAdxqrwqHe",
        "outputId": "e88a18c5-94e4-4e29-d7d5-8464dae10d8c"
      },
      "execution_count": 100,
      "outputs": [
        {
          "output_type": "stream",
          "name": "stdout",
          "text": [
            "[1 1 0]\n"
          ]
        }
      ]
    },
    {
      "cell_type": "code",
      "source": [
        "number_of_steps_for_convergence = 0\n",
        "dataframe_of_x_w = pd.DataFrame()\n",
        "while (correctClassified != len(data)): #Until everything is classified\n",
        "  for sample in range(len(data)):\n",
        "    x = np.append(data[sample,0:2],1)\n",
        "    if y[sample]==1: #Sample is positive_one \n",
        "       if np.dot(np.transpose(w),x)>=0: #WX >= 0\n",
        "         correctClassified=correctClassified+1\n",
        "         print(\"sample is positive_one\")\n",
        "       else: #positive_one is classified as negative_one     \n",
        "          w=w+x\n",
        "          number_of_steps_for_convergence += 1\n",
        "          df_new_row = pd.DataFrame({ 'x1': [x[0]], 'x2': [x[1]], 'w1':float([w[0]][0]), 'w2':float([w[1]][0])})\n",
        "          dataframe_of_x_w = pd.concat([dataframe_of_x_w, df_new_row])          \n",
        "    else: #Sample is negative_one\n",
        "         if np.dot(np.transpose(w),x)<0: # WX < 0\n",
        "           correctClassified=correctClassified+1\n",
        "           print(\"sample is negative_one\")\n",
        "         else: #negative_one is classified as positive_one          \n",
        "          w=w-x\n",
        "          number_of_steps_for_convergence += 1\n",
        "          df_new_row = pd.DataFrame({ 'x1': [x[0]], 'x2': [x[1]], 'w1':float([w[0]][0]), 'w2':float([w[1]][0])})\n",
        "          dataframe_of_x_w = pd.concat([dataframe_of_x_w, df_new_row])          \n",
        "  if(correctClassified != len(data)):\n",
        "      correctClassified=0           \n",
        "print(\"Weight vector:\", w) \n",
        "print(\"Number of steps required for convergence:\",number_of_steps_for_convergence)\n",
        "print(dataframe_of_x_w)"
      ],
      "metadata": {
        "colab": {
          "base_uri": "https://localhost:8080/"
        },
        "id": "gwENrsPKwzhn",
        "outputId": "1962cdef-4f0d-4a2f-a6fc-9fa572099efd"
      },
      "execution_count": 101,
      "outputs": [
        {
          "output_type": "stream",
          "name": "stdout",
          "text": [
            "sample is positive_one\n",
            "sample is positive_one\n",
            "sample is negative_one\n",
            "sample is positive_one\n",
            "sample is positive_one\n",
            "sample is negative_one\n",
            "sample is negative_one\n",
            "sample is negative_one\n",
            "sample is positive_one\n",
            "sample is positive_one\n",
            "sample is negative_one\n",
            "sample is negative_one\n",
            "sample is positive_one\n",
            "sample is positive_one\n",
            "sample is negative_one\n",
            "sample is negative_one\n",
            "sample is positive_one\n",
            "sample is positive_one\n",
            "sample is positive_one\n",
            "sample is negative_one\n",
            "sample is negative_one\n",
            "sample is negative_one\n",
            "Weight vector: [ 1.7 -0.2  0. ]\n",
            "Number of steps required for convergence: 8\n",
            "             x1        x2   w1        w2\n",
            "0 -2.775558e-17 -0.083333  1.0  0.916667\n",
            "0 -2.000000e-01  0.216667  1.2  0.700000\n",
            "0 -1.000000e-01  0.216667  1.3  0.483333\n",
            "0 -2.775558e-17 -0.083333  1.3  0.400000\n",
            "0 -2.775558e-17 -0.083333  1.3  0.316667\n",
            "0 -2.000000e-01  0.216667  1.5  0.100000\n",
            "0 -2.775558e-17 -0.083333  1.5  0.016667\n",
            "0 -2.000000e-01  0.216667  1.7 -0.200000\n"
          ]
        }
      ]
    }
  ]
}