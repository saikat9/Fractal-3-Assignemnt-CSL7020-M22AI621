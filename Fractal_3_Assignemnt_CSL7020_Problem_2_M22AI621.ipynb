{
  "nbformat": 4,
  "nbformat_minor": 0,
  "metadata": {
    "colab": {
      "provenance": []
    },
    "kernelspec": {
      "name": "python3",
      "display_name": "Python 3"
    },
    "language_info": {
      "name": "python"
    }
  },
  "cells": [
    {
      "cell_type": "markdown",
      "source": [
        "# Import necessary libraries"
      ],
      "metadata": {
        "id": "tNzWn6kPv92p"
      }
    },
    {
      "cell_type": "code",
      "source": [
        "import pandas as pd\n",
        "import numpy as np\n",
        "from matplotlib import pyplot as plt\n",
        "import cv2\n",
        "import os\n",
        "import time"
      ],
      "metadata": {
        "id": "lZWjn-V5yQYN"
      },
      "execution_count": 104,
      "outputs": []
    },
    {
      "cell_type": "code",
      "source": [
        "from google.colab import drive\n",
        "drive.mount('/content/drive')"
      ],
      "metadata": {
        "colab": {
          "base_uri": "https://localhost:8080/"
        },
        "id": "YSGuvlX1fyWE",
        "outputId": "ed0edbbc-49fd-4de8-a14c-61723a9558e2"
      },
      "execution_count": 105,
      "outputs": [
        {
          "output_type": "stream",
          "name": "stdout",
          "text": [
            "Drive already mounted at /content/drive; to attempt to forcibly remount, call drive.mount(\"/content/drive\", force_remount=True).\n"
          ]
        }
      ]
    },
    {
      "cell_type": "markdown",
      "source": [
        "# Load the image files for training data and visualise"
      ],
      "metadata": {
        "id": "MX5sjINFwJuo"
      }
    },
    {
      "cell_type": "code",
      "source": [
        "def load_images_from_folder(folder):\n",
        "    images = []\n",
        "    for filename in os.listdir(folder):\n",
        "        img = cv2.imread(os.path.join(folder,filename),cv2.IMREAD_GRAYSCALE)\n",
        "        if img is not None:\n",
        "            images.append(img)\n",
        "    return images\n",
        "train_images_0 =    load_images_from_folder(\"/content/drive/MyDrive/train_gurumukhi/0/\") \n",
        "train_images_1 =    load_images_from_folder(\"/content/drive/MyDrive/train_gurumukhi/1/\")\n",
        "train_images_2 =    load_images_from_folder(\"/content/drive/MyDrive/train_gurumukhi/2/\")\n",
        "train_images_3 =    load_images_from_folder(\"/content/drive/MyDrive/train_gurumukhi/3/\")\n",
        "train_images_4 =    load_images_from_folder(\"/content/drive/MyDrive/train_gurumukhi/4/\")\n",
        "train_images_5 =    load_images_from_folder(\"/content/drive/MyDrive/train_gurumukhi/5/\")\n",
        "train_images_6 =    load_images_from_folder(\"/content/drive/MyDrive/train_gurumukhi/6/\")\n",
        "train_images_7 =    load_images_from_folder(\"/content/drive/MyDrive/train_gurumukhi/7/\")\n",
        "train_images_8 =    load_images_from_folder(\"/content/drive/MyDrive/train_gurumukhi/8/\")\n",
        "train_images_9 =    load_images_from_folder(\"/content/drive/MyDrive/train_gurumukhi/9/\")\n",
        "\n",
        "train_list = []\n",
        "for i in train_images_0:\n",
        "  i = np.append (0 , i.flatten())\n",
        "  train_list.append(i)\n",
        "\n",
        "for i in train_images_1:\n",
        "  i = np.append (1 , i.flatten())\n",
        "  train_list.append(i)\n",
        "\n",
        "for i in train_images_2:\n",
        "  i = np.append (2 , i.flatten())\n",
        "  train_list.append(i)\n",
        "\n",
        "for i in train_images_3:\n",
        "  i = np.append (3 , i.flatten())\n",
        "  train_list.append(i)\n",
        "\n",
        "for i in train_images_4:\n",
        "  i = np.append (4 , i.flatten())\n",
        "  train_list.append(i)\n",
        "\n",
        "for i in train_images_5:\n",
        "  i = np.append (5 , i.flatten())\n",
        "  train_list.append(i)\n",
        "\n",
        "for i in train_images_6:\n",
        "  i = np.append (6 , i.flatten())\n",
        "  train_list.append(i)\n",
        "\n",
        "for i in train_images_7:\n",
        "  i = np.append (7 , i.flatten())\n",
        "  train_list.append(i)\n",
        "\n",
        "for i in train_images_8:\n",
        "  i = np.append (8 , i.flatten())\n",
        "  train_list.append(i)        \n",
        "\n",
        "for i in train_images_9:\n",
        "  i = np.append (9 , i.flatten())\n",
        "  train_list.append(i)\n",
        "\n"
      ],
      "metadata": {
        "id": "PF3WFM4Ca_fv"
      },
      "execution_count": 106,
      "outputs": []
    },
    {
      "cell_type": "code",
      "source": [
        "train_list_new = []\n",
        "\n",
        "for i in train_list:\n",
        "  i = \",\".join(str(x) for x in i)\n",
        "  train_list_new.append(i)\n",
        "\n",
        "train_list = train_list_new"
      ],
      "metadata": {
        "id": "1u0F5b5usIQ3"
      },
      "execution_count": 107,
      "outputs": []
    },
    {
      "cell_type": "code",
      "source": [
        "test_images_0 =    load_images_from_folder(\"/content/drive/MyDrive/val_gurumukhi/0/\") \n",
        "test_images_1 =    load_images_from_folder(\"/content/drive/MyDrive/val_gurumukhi/1/\")\n",
        "test_images_2 =    load_images_from_folder(\"/content/drive/MyDrive/val_gurumukhi/2/\")\n",
        "test_images_3 =    load_images_from_folder(\"/content/drive/MyDrive/val_gurumukhi/3/\")\n",
        "test_images_4 =    load_images_from_folder(\"/content/drive/MyDrive/val_gurumukhi/4/\")\n",
        "test_images_5 =    load_images_from_folder(\"/content/drive/MyDrive/val_gurumukhi/5/\")\n",
        "test_images_6 =    load_images_from_folder(\"/content/drive/MyDrive/val_gurumukhi/6/\")\n",
        "test_images_7 =    load_images_from_folder(\"/content/drive/MyDrive/val_gurumukhi/7/\")\n",
        "test_images_8 =    load_images_from_folder(\"/content/drive/MyDrive/val_gurumukhi/8/\")\n",
        "test_images_9 =    load_images_from_folder(\"/content/drive/MyDrive/val_gurumukhi/9/\")\n",
        "\n",
        "test_list = []\n",
        "for i in test_images_0:\n",
        "  i = np.append (0 , i.flatten())\n",
        "  test_list.append(i)\n",
        "\n",
        "for i in test_images_1:\n",
        "  i = np.append (1 , i.flatten())\n",
        "  test_list.append(i)\n",
        "\n",
        "for i in test_images_2:\n",
        "  i = np.append (2 , i.flatten())\n",
        "  test_list.append(i)\n",
        "\n",
        "for i in test_images_3:\n",
        "  i = np.append (3 , i.flatten())\n",
        "  test_list.append(i)\n",
        "\n",
        "for i in test_images_4:\n",
        "  i = np.append (4 , i.flatten())\n",
        "  test_list.append(i)\n",
        "\n",
        "for i in test_images_5:\n",
        "  i = np.append (5 , i.flatten())\n",
        "  test_list.append(i)\n",
        "\n",
        "for i in test_images_6:\n",
        "  i = np.append (6 , i.flatten())\n",
        "  test_list.append(i)\n",
        "\n",
        "for i in test_images_7:\n",
        "  i = np.append (7 , i.flatten())\n",
        "  test_list.append(i)\n",
        "\n",
        "for i in test_images_8:\n",
        "  i = np.append (8 , i.flatten())\n",
        "  test_list.append(i)        \n",
        "\n",
        "for i in test_images_9:\n",
        "  i = np.append (9 , i.flatten())\n",
        "  test_list.append(i)\n",
        "\n"
      ],
      "metadata": {
        "id": "1b3RIlHlnbsf"
      },
      "execution_count": 108,
      "outputs": []
    },
    {
      "cell_type": "code",
      "source": [
        "test_list_new = []\n",
        "\n",
        "for i in test_list:\n",
        "  i = \",\".join(str(x) for x in i)\n",
        "  test_list_new.append(i)\n",
        "\n",
        "test_list = test_list_new"
      ],
      "metadata": {
        "id": "dSQ21y2ws8fv"
      },
      "execution_count": 109,
      "outputs": []
    },
    {
      "cell_type": "code",
      "source": [
        "train_list[100]"
      ],
      "metadata": {
        "colab": {
          "base_uri": "https://localhost:8080/",
          "height": 140
        },
        "id": "Eu9e5ZTot5Pp",
        "outputId": "3c06e0e9-d26f-495b-9915-07cde4f93caf"
      },
      "execution_count": 110,
      "outputs": [
        {
          "output_type": "execute_result",
          "data": {
            "text/plain": [
              "'1,255,255,255,255,181,159,139,0,0,0,0,20,159,183,255,255,255,255,255,255,255,255,236,30,6,0,0,0,0,0,0,0,0,6,26,100,252,255,255,255,255,255,102,0,0,0,0,92,153,153,153,15,0,0,0,0,92,194,255,255,231,168,3,0,0,0,80,252,255,255,255,249,249,52,0,0,0,4,203,255,36,0,0,0,0,74,249,255,255,255,255,255,255,241,44,0,0,0,14,211,0,0,0,0,0,155,255,255,255,255,159,16,0,155,159,0,0,0,0,198,0,0,0,0,178,255,255,236,174,26,0,0,0,0,0,0,0,0,0,173,0,0,0,0,79,159,117,41,0,0,0,0,92,153,153,0,0,0,0,119,40,0,0,0,0,2,1,0,0,0,64,230,252,255,206,0,0,0,0,198,233,173,0,0,0,0,25,198,198,198,255,255,255,255,57,0,0,0,0,198,255,255,255,255,255,255,255,255,255,255,255,255,255,255,255,0,0,0,0,198,255,255,255,255,255,255,255,255,255,255,255,255,255,255,255,0,0,0,0,198,255,255,255,255,255,255,255,255,255,255,255,255,255,255,136,0,0,0,0,198,255,255,255,255,255,255,255,255,255,255,255,255,255,255,57,0,0,0,16,212,255,255,255,255,255,255,255,255,255,255,255,255,255,206,13,0,0,0,64,255,255,255,255,255,255,255,255,255,255,255,255,255,255,191,0,0,0,0,133,255,255,255,255,255,255,255,255,255,255,255,255,255,255,168,0,0,0,0,249,255,255,255,255,255,255,255,255,255,255,255,255,255,255,6,0,0,0,0,249,255,255,255,255,255,255,255,255,255,255,255,255,255,255,53,0,0,0,0,249,255,255,255,255,255,255,255,255,255,255,255,255,255,255,241,198,0,0,0,105,255'"
            ],
            "application/vnd.google.colaboratory.intrinsic+json": {
              "type": "string"
            }
          },
          "metadata": {},
          "execution_count": 110
        }
      ]
    },
    {
      "cell_type": "code",
      "source": [
        "# take the data from a record, rearrange it into a 20*20 array and plot it as an image\n",
        "all_values = train_list[100].split(',')\n",
        "image_array = np.asfarray(all_values[1:]).reshape((20,20))\n",
        "plt.imshow(image_array, cmap='Greys', interpolation='None')"
      ],
      "metadata": {
        "colab": {
          "base_uri": "https://localhost:8080/",
          "height": 447
        },
        "id": "bpdHmsrXtOS0",
        "outputId": "0b3de011-ce2b-43bf-d6b6-1afacb5836b8"
      },
      "execution_count": 111,
      "outputs": [
        {
          "output_type": "execute_result",
          "data": {
            "text/plain": [
              "<matplotlib.image.AxesImage at 0x7f3e1d90d000>"
            ]
          },
          "metadata": {},
          "execution_count": 111
        },
        {
          "output_type": "display_data",
          "data": {
            "text/plain": [
              "<Figure size 640x480 with 1 Axes>"
            ],
            "image/png": "[encoded data removed]"
          },
          "metadata": {}
        }
      ]
    },
    {
      "cell_type": "code",
      "source": [
        "\n",
        "# scale input to range 0.01 to 1.00\n",
        "scaled_input_train = (np.asfarray(all_values[1:]) / 255.0 * 0.99) + 0.01\n",
        "# print(scaled_input)"
      ],
      "metadata": {
        "id": "FZQ9DxEovrLW"
      },
      "execution_count": 112,
      "outputs": []
    },
    {
      "cell_type": "code",
      "source": [
        "test_list[100]"
      ],
      "metadata": {
        "colab": {
          "base_uri": "https://localhost:8080/",
          "height": 140
        },
        "id": "_wWgrfRQuUS-",
        "outputId": "b16ef49b-862a-467f-d885-5c330ca5d82f"
      },
      "execution_count": 113,
      "outputs": [
        {
          "output_type": "execute_result",
          "data": {
            "text/plain": [
              "'5,159,0,0,0,124,255,255,255,255,255,255,255,255,255,255,255,255,255,255,255,245,230,230,180,7,26,207,255,255,255,255,255,255,255,230,255,255,255,255,255,255,255,255,255,176,0,32,255,255,255,255,255,255,106,23,102,240,255,255,255,255,255,255,255,206,0,32,255,255,255,255,255,255,53,0,0,37,255,255,255,255,255,255,255,57,0,185,255,255,255,255,255,255,191,0,0,32,255,255,255,255,255,255,122,0,36,239,255,255,255,255,255,255,6,0,0,155,255,255,255,255,251,105,1,25,239,255,255,255,255,255,255,117,1,0,0,32,255,255,255,255,105,0,38,232,255,255,255,255,255,255,236,41,0,0,0,32,255,255,255,162,1,38,246,255,255,255,255,255,255,255,223,0,0,49,0,24,230,255,255,36,0,153,255,255,255,255,255,255,255,255,223,0,0,198,0,0,34,250,255,0,0,153,255,255,255,255,255,255,255,219,16,0,133,255,159,0,0,249,255,0,29,245,255,255,255,255,255,224,70,16,4,150,254,255,245,23,0,226,255,0,13,194,255,255,255,255,163,3,0,57,166,255,255,255,255,26,0,64,255,40,0,115,191,191,122,6,3,16,64,251,255,255,255,255,255,26,0,48,241,233,20,0,0,0,0,25,198,212,255,255,255,255,255,255,255,26,0,0,198,255,255,255,255,255,255,255,255,255,255,255,255,255,255,255,255,223,0,0,198,255,255,255,255,255,255,255,255,255,255,255,255,255,255,255,255,227,13,0,198,255,255,255,255,255,255,255,255,255,255,255,255,255,255,255,255,255,102,0,198,255,255,255,255,255,255,255,255,255,255,255,255,255,255,255,255,255,102,0,5,255,255,255,255,255,255,255,255,255,255,255,255,255,255,255,255,255,221,5,153'"
            ],
            "application/vnd.google.colaboratory.intrinsic+json": {
              "type": "string"
            }
          },
          "metadata": {},
          "execution_count": 113
        }
      ]
    },
    {
      "cell_type": "code",
      "source": [
        "# take the data from a record, rearrange it into a 20*20 array and plot it as an image\n",
        "all_values = test_list[100].split(',')\n",
        "image_array = np.asfarray(all_values[1:]).reshape((20,20))\n",
        "plt.imshow(image_array, cmap='Greys', interpolation='None')"
      ],
      "metadata": {
        "colab": {
          "base_uri": "https://localhost:8080/",
          "height": 447
        },
        "id": "Gy7neZ0HuPrw",
        "outputId": "039e3d14-6159-4a2a-a638-6fde8c083e28"
      },
      "execution_count": 114,
      "outputs": [
        {
          "output_type": "execute_result",
          "data": {
            "text/plain": [
              "<matplotlib.image.AxesImage at 0x7f3e1d77b820>"
            ]
          },
          "metadata": {},
          "execution_count": 114
        },
        {
          "output_type": "display_data",
          "data": {
            "text/plain": [
              "<Figure size 640x480 with 1 Axes>"
            ],
            "image/png": "[encoded data removed]"
          },
          "metadata": {}
        }
      ]
    },
    {
      "cell_type": "code",
      "source": [
        "# scale input to range 0.01 to 1.00\n",
        "scaled_input_test = (np.asfarray(all_values[1:]) / 255.0 * 0.99) + 0.01\n",
        "# print(scaled_input)"
      ],
      "metadata": {
        "id": "-hKnl_TEvxKT"
      },
      "execution_count": 115,
      "outputs": []
    },
    {
      "cell_type": "markdown",
      "source": [
        "# Building Neural Network"
      ],
      "metadata": {
        "id": "cnQ6Zm5iwaAn"
      }
    },
    {
      "cell_type": "code",
      "source": [
        "class DNN:\n",
        "  def __init__(self, sizes, epochs, lr):\n",
        "    self.sizes = sizes\n",
        "    self.epochs = epochs\n",
        "    self.lr = lr\n",
        "\n",
        "    # number of nodes in each layer\n",
        "    input_layer=self.sizes[0]\n",
        "    hidden_1=self.sizes[1]\n",
        "    hidden_2=self.sizes[2]\n",
        "    output_layer=self.sizes[3]\n",
        "\n",
        "    self.params = {\n",
        "        'W1':np.random.randn(hidden_1, input_layer) * np.sqrt(1. / hidden_1),\n",
        "        'W2':np.random.randn(hidden_2, hidden_1) * np.sqrt(1. / hidden_2),\n",
        "        'W3':np.random.randn(output_layer, hidden_2) * np.sqrt(1. / output_layer)\n",
        "    }\n",
        "  def sigmoid(self, x, derivative=False):\n",
        "      if derivative:\n",
        "          return (np.exp(-x))/((np.exp(-x)+1)**2)\n",
        "      return 1/(1 + np.exp(-x))\n",
        "\n",
        "  def softmax(self, x, derivative=False):\n",
        "      # Numerically stable with large exponentials\n",
        "      exps = np.exp(x - x.max())\n",
        "      if derivative:\n",
        "          return exps / np.sum(exps, axis=0) * (1 - exps / np.sum(exps, axis=0))\n",
        "      return exps / np.sum(exps, axis=0)\n",
        "  def forward_pass(self, x_train):\n",
        "      params = self.params\n",
        "\n",
        "      # input layer activations becomes sample\n",
        "      params['A0'] = x_train\n",
        "\n",
        "      # input layer to hidden layer 1\n",
        "      params['Z1'] = np.dot(params[\"W1\"], params['A0'])\n",
        "      params['A1'] = self.sigmoid(params['Z1'])\n",
        "\n",
        "      # hidden layer 1 to hidden layer 2\n",
        "      params['Z2'] = np.dot(params[\"W2\"], params['A1'])\n",
        "      params['A2'] = self.sigmoid(params['Z2'])\n",
        "\n",
        "      # hidden layer 2 to output layer\n",
        "      params['Z3'] = np.dot(params[\"W3\"], params['A2'])\n",
        "      params['A3'] = self.softmax(params['Z3'])\n",
        "\n",
        "      return params['A3']\n",
        "\n",
        "  def backward_pass(self, y_train, output):\n",
        "      '''\n",
        "          This is the backpropagation algorithm, for calculating the updates\n",
        "          of the neural network's parameters.\n",
        "\n",
        "          Note: There is a stability issue that causes warnings. This is \n",
        "                caused  by the dot and multiply operations on the huge arrays.\n",
        "                \n",
        "                RuntimeWarning: invalid value encountered in true_divide\n",
        "                RuntimeWarning: overflow encountered in exp\n",
        "                RuntimeWarning: overflow encountered in square\n",
        "      '''\n",
        "      params = self.params\n",
        "      change_w = {}\n",
        "\n",
        "      # Calculate W3 update\n",
        "      error = 2 * (output - y_train) / output.shape[0] * self.softmax(params['Z3'], derivative=True)\n",
        "      change_w['W3'] = np.outer(error, params['A2'])\n",
        "\n",
        "      # Calculate W2 update\n",
        "      error = np.dot(params['W3'].T, error) * self.sigmoid(params['Z2'], derivative=True)\n",
        "      change_w['W2'] = np.outer(error, params['A1'])\n",
        "\n",
        "      # Calculate W1 update\n",
        "      error = np.dot(params['W2'].T, error) * self.sigmoid(params['Z1'], derivative=True)\n",
        "      change_w['W1'] = np.outer(error, params['A0'])\n",
        "\n",
        "      return change_w\n",
        "\n",
        "  def update_network_parameters(self, changes_to_w):\n",
        "      '''\n",
        "          Update network parameters according to update rule from\n",
        "          Stochastic Gradient Descent.\n",
        "\n",
        "          θ = θ - η * ∇J(x, y), \n",
        "              theta θ:            a network parameter (e.g. a weight w)\n",
        "              eta η:              the learning rate\n",
        "              gradient ∇J(x, y):  the gradient of the objective function,\n",
        "                                  i.e. the change for a specific theta θ\n",
        "      '''\n",
        "      \n",
        "      for key, value in changes_to_w.items():\n",
        "          self.params[key] -= self.lr * value\n",
        "\n",
        "  def compute_accuracy(self, test_data, output_nodes):\n",
        "      '''\n",
        "          This function does a forward pass of x, then checks if the indices\n",
        "          of the maximum value in the output equals the indices in the label\n",
        "          y. Then it sums over each prediction and calculates the accuracy.\n",
        "      '''\n",
        "      predictions = []\n",
        "\n",
        "      for x in test_data:\n",
        "          all_values = x.split(',')\n",
        "          # scale and shift the inputs\n",
        "          inputs = (np.asfarray(all_values[1:]) / 255.0 * 0.99) + 0.01\n",
        "          # create the target output values (all 0.01, except the desired label which is 0.99)\n",
        "          targets = np.zeros(output_nodes) + 0.01\n",
        "          # all_values[0] is the target label for this record\n",
        "          targets[int(all_values[0])] = 0.99\n",
        "          output = self.forward_pass(inputs)\n",
        "          pred = np.argmax(output)\n",
        "          predictions.append(pred == np.argmax(targets))\n",
        "      \n",
        "      return np.mean(predictions)\n",
        "     \n",
        "\n",
        "  def train(self, train_list, test_list, output_nodes):\n",
        "      start_time = time.time()\n",
        "      for iteration in range(self.epochs):\n",
        "          for x in train_list:\n",
        "              all_values = x.split(',')\n",
        "              # scale and shift the inputs\n",
        "              inputs = (np.asfarray(all_values[1:]) / 255.0 * 0.99) + 0.01\n",
        "              # create the target output values (all 0.01, except the desired label which is 0.99)\n",
        "              targets = np.zeros(output_nodes) + 0.01\n",
        "              # all_values[0] is the target label for this record\n",
        "              targets[int(all_values[0])] = 0.99\n",
        "              output = self.forward_pass(inputs)\n",
        "              changes_to_w = self.backward_pass(targets, output)\n",
        "              self.update_network_parameters(changes_to_w)\n",
        "          \n",
        "          accuracy = self.compute_accuracy(test_list, output_nodes)\n",
        "          if iteration == 1999:\n",
        "            iteration = iteration + 1\n",
        "          if iteration%200 == 0:\n",
        "            print('Epoch: {0}, Time Spent: {1:.2f}s, Accuracy: {2:.2f}%'.format(\n",
        "                #iteration+1, time.time() - start_time, accuracy * 100\n",
        "                iteration, time.time() - start_time, accuracy * 100\n",
        "            ))\n",
        "     \n"
      ],
      "metadata": {
        "id": "mGMlu1A6wbxK"
      },
      "execution_count": 116,
      "outputs": []
    },
    {
      "cell_type": "code",
      "source": [
        "dnn = DNN(sizes=[400, 128, 64, 10], epochs=2000, lr=0.01)\n",
        "dnn.train(train_list, test_list, 10)"
      ],
      "metadata": {
        "colab": {
          "base_uri": "https://localhost:8080/"
        },
        "id": "6ZkL82cbwngw",
        "outputId": "c8690764-4d40-4543-c4fd-672092966509"
      },
      "execution_count": 117,
      "outputs": [
        {
          "output_type": "stream",
          "name": "stdout",
          "text": [
            "Epoch: 0, Time Spent: 0.70s, Accuracy: 9.55%\n",
            "Epoch: 200, Time Spent: 170.39s, Accuracy: 59.55%\n",
            "Epoch: 400, Time Spent: 338.60s, Accuracy: 78.09%\n",
            "Epoch: 600, Time Spent: 506.61s, Accuracy: 87.08%\n",
            "Epoch: 800, Time Spent: 677.01s, Accuracy: 93.82%\n",
            "Epoch: 1000, Time Spent: 846.08s, Accuracy: 93.26%\n",
            "Epoch: 1200, Time Spent: 1014.55s, Accuracy: 92.70%\n",
            "Epoch: 1400, Time Spent: 1183.54s, Accuracy: 92.70%\n",
            "Epoch: 1600, Time Spent: 1352.80s, Accuracy: 92.70%\n",
            "Epoch: 1800, Time Spent: 1521.87s, Accuracy: 92.70%\n",
            "Epoch: 2000, Time Spent: 1689.79s, Accuracy: 92.70%\n"
          ]
        }
      ]
    }
  ]
}